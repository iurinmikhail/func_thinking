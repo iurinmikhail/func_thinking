{
 "cells": [
  {
   "cell_type": "code",
   "execution_count": 48,
   "metadata": {},
   "outputs": [],
   "source": [
    "from typing import Literal, TypeAlias, TypedDict, Mapping, TypeVar, get_type_hints, Union\n",
    "from decimal import Decimal\n",
    "\n",
    "Price: TypeAlias = Decimal\n",
    "Name: TypeAlias = str\n",
    "Shipping: TypeAlias = str\n",
    "Quantity: TypeAlias = int\n",
    "Tax: TypeAlias = Decimal\n",
    "\n",
    "K = TypeVar(\"K\")\n",
    "V = TypeVar(\"V\")\n",
    "\n",
    "class Product(TypedDict, total=False):\n",
    "    name: Name\n",
    "    price: Price\n",
    "    shipping: Shipping\n",
    "    quantity: Quantity\n",
    "    tax: Tax\n",
    "\n",
    "Cart: TypeAlias = Mapping[Name, Product]\n",
    "FieldName = Literal[tuple(get_type_hints(Product).keys())]\n",
    "FieldValue = Union[Name, Price, Shipping, Quantity, Tax, None]\n",
    "def test_set_price_by_name():\n",
    "    product = Product(name=\"product1\", price=100)\n",
    "    cart: Cart = {product[\"name\"]: product}\n",
    "    new_price = Price(200)\n",
    "    product_excepted = Product(name=product[\"name\"], price=new_price)\n",
    "    excepted_cart = {product_excepted[\"name\"]: product_excepted}\n",
    "    assert set_price_by_name(cart, product[\"name\"], new_price) == excepted_cart"
   ]
  },
  {
   "cell_type": "code",
   "execution_count": 17,
   "metadata": {},
   "outputs": [],
   "source": [
    "test_set_price_by_name()"
   ]
  },
  {
   "cell_type": "code",
   "execution_count": 18,
   "metadata": {},
   "outputs": [],
   "source": [
    "def set_price_by_name(): ..."
   ]
  },
  {
   "cell_type": "code",
   "execution_count": 19,
   "metadata": {},
   "outputs": [
    {
     "ename": "TypeError",
     "evalue": "set_price_by_name() takes 0 positional arguments but 3 were given",
     "output_type": "error",
     "traceback": [
      "\u001b[1;31m---------------------------------------------------------------------------\u001b[0m",
      "\u001b[1;31mTypeError\u001b[0m                                 Traceback (most recent call last)",
      "Cell \u001b[1;32mIn[19], line 1\u001b[0m\n\u001b[1;32m----> 1\u001b[0m \u001b[43mtest_set_price_by_name\u001b[49m\u001b[43m(\u001b[49m\u001b[43m)\u001b[49m\n",
      "Cell \u001b[1;32mIn[16], line 20\u001b[0m, in \u001b[0;36mtest_set_price_by_name\u001b[1;34m()\u001b[0m\n\u001b[0;32m     18\u001b[0m product_excepted \u001b[38;5;241m=\u001b[39m Product(name\u001b[38;5;241m=\u001b[39mproduct[\u001b[38;5;124m\"\u001b[39m\u001b[38;5;124mname\u001b[39m\u001b[38;5;124m\"\u001b[39m], price\u001b[38;5;241m=\u001b[39mnew_price)\n\u001b[0;32m     19\u001b[0m excepted_cart \u001b[38;5;241m=\u001b[39m {product_excepted[\u001b[38;5;124m\"\u001b[39m\u001b[38;5;124mname\u001b[39m\u001b[38;5;124m\"\u001b[39m]: product_excepted}\n\u001b[1;32m---> 20\u001b[0m \u001b[38;5;28;01massert\u001b[39;00m \u001b[43mset_price_by_name\u001b[49m\u001b[43m(\u001b[49m\u001b[43mcart\u001b[49m\u001b[43m,\u001b[49m\u001b[43m \u001b[49m\u001b[43mproduct\u001b[49m\u001b[43m[\u001b[49m\u001b[38;5;124;43m\"\u001b[39;49m\u001b[38;5;124;43mname\u001b[39;49m\u001b[38;5;124;43m\"\u001b[39;49m\u001b[43m]\u001b[49m\u001b[43m,\u001b[49m\u001b[43m \u001b[49m\u001b[43mnew_price\u001b[49m\u001b[43m)\u001b[49m \u001b[38;5;241m==\u001b[39m excepted_cart\n",
      "\u001b[1;31mTypeError\u001b[0m: set_price_by_name() takes 0 positional arguments but 3 were given"
     ]
    }
   ],
   "source": [
    "test_set_price_by_name()"
   ]
  },
  {
   "cell_type": "code",
   "execution_count": 20,
   "metadata": {},
   "outputs": [],
   "source": [
    "def set_price_by_name(cart: Cart, name: Name, price: Price) -> Cart:\n",
    "    ..."
   ]
  },
  {
   "cell_type": "code",
   "execution_count": 21,
   "metadata": {},
   "outputs": [
    {
     "ename": "AssertionError",
     "evalue": "",
     "output_type": "error",
     "traceback": [
      "\u001b[1;31m---------------------------------------------------------------------------\u001b[0m",
      "\u001b[1;31mAssertionError\u001b[0m                            Traceback (most recent call last)",
      "Cell \u001b[1;32mIn[21], line 1\u001b[0m\n\u001b[1;32m----> 1\u001b[0m \u001b[43mtest_set_price_by_name\u001b[49m\u001b[43m(\u001b[49m\u001b[43m)\u001b[49m\n",
      "Cell \u001b[1;32mIn[16], line 20\u001b[0m, in \u001b[0;36mtest_set_price_by_name\u001b[1;34m()\u001b[0m\n\u001b[0;32m     18\u001b[0m product_excepted \u001b[38;5;241m=\u001b[39m Product(name\u001b[38;5;241m=\u001b[39mproduct[\u001b[38;5;124m\"\u001b[39m\u001b[38;5;124mname\u001b[39m\u001b[38;5;124m\"\u001b[39m], price\u001b[38;5;241m=\u001b[39mnew_price)\n\u001b[0;32m     19\u001b[0m excepted_cart \u001b[38;5;241m=\u001b[39m {product_excepted[\u001b[38;5;124m\"\u001b[39m\u001b[38;5;124mname\u001b[39m\u001b[38;5;124m\"\u001b[39m]: product_excepted}\n\u001b[1;32m---> 20\u001b[0m \u001b[38;5;28;01massert\u001b[39;00m set_price_by_name(cart, product[\u001b[38;5;124m\"\u001b[39m\u001b[38;5;124mname\u001b[39m\u001b[38;5;124m\"\u001b[39m], new_price) \u001b[38;5;241m==\u001b[39m excepted_cart\n",
      "\u001b[1;31mAssertionError\u001b[0m: "
     ]
    }
   ],
   "source": [
    "test_set_price_by_name()"
   ]
  },
  {
   "cell_type": "code",
   "execution_count": 22,
   "metadata": {},
   "outputs": [],
   "source": [
    "\n",
    "\n",
    "def object_set(obj: Mapping[K, V], key: K, value: V) -> Mapping[K, V]:\n",
    "    ...\n",
    "\n",
    "\n",
    "def set_price_by_name(cart: Cart, name: Name, price: Price) -> Cart:\n",
    "    product = cart[name]\n",
    "    new_product = object_set(product, \"price\", price)\n",
    "    new_cart = object_set(cart, name, new_product)\n",
    "    return new_cart"
   ]
  },
  {
   "cell_type": "code",
   "execution_count": 23,
   "metadata": {},
   "outputs": [
    {
     "ename": "AssertionError",
     "evalue": "",
     "output_type": "error",
     "traceback": [
      "\u001b[1;31m---------------------------------------------------------------------------\u001b[0m",
      "\u001b[1;31mAssertionError\u001b[0m                            Traceback (most recent call last)",
      "Cell \u001b[1;32mIn[23], line 1\u001b[0m\n\u001b[1;32m----> 1\u001b[0m \u001b[43mtest_set_price_by_name\u001b[49m\u001b[43m(\u001b[49m\u001b[43m)\u001b[49m\n",
      "Cell \u001b[1;32mIn[16], line 20\u001b[0m, in \u001b[0;36mtest_set_price_by_name\u001b[1;34m()\u001b[0m\n\u001b[0;32m     18\u001b[0m product_excepted \u001b[38;5;241m=\u001b[39m Product(name\u001b[38;5;241m=\u001b[39mproduct[\u001b[38;5;124m\"\u001b[39m\u001b[38;5;124mname\u001b[39m\u001b[38;5;124m\"\u001b[39m], price\u001b[38;5;241m=\u001b[39mnew_price)\n\u001b[0;32m     19\u001b[0m excepted_cart \u001b[38;5;241m=\u001b[39m {product_excepted[\u001b[38;5;124m\"\u001b[39m\u001b[38;5;124mname\u001b[39m\u001b[38;5;124m\"\u001b[39m]: product_excepted}\n\u001b[1;32m---> 20\u001b[0m \u001b[38;5;28;01massert\u001b[39;00m set_price_by_name(cart, product[\u001b[38;5;124m\"\u001b[39m\u001b[38;5;124mname\u001b[39m\u001b[38;5;124m\"\u001b[39m], new_price) \u001b[38;5;241m==\u001b[39m excepted_cart\n",
      "\u001b[1;31mAssertionError\u001b[0m: "
     ]
    }
   ],
   "source": [
    "test_set_price_by_name()"
   ]
  },
  {
   "cell_type": "code",
   "execution_count": 24,
   "metadata": {},
   "outputs": [],
   "source": [
    "def object_set(obj: Mapping[K, V], key: K, value: V) -> Mapping[K, V]:\n",
    "    obj_copy = obj.copy()\n",
    "    obj_copy[key] = value\n",
    "    return obj_copy\n",
    "\n",
    "\n",
    "def set_price_by_name(cart: Cart, name: Name, price: Price) -> Cart:\n",
    "    product = cart[name]\n",
    "    new_product = object_set(product, \"price\", price)\n",
    "    new_cart = object_set(cart, name, new_product)\n",
    "    return new_cart"
   ]
  },
  {
   "cell_type": "code",
   "execution_count": 25,
   "metadata": {},
   "outputs": [],
   "source": [
    "test_set_price_by_name()"
   ]
  },
  {
   "cell_type": "code",
   "execution_count": 33,
   "metadata": {},
   "outputs": [],
   "source": [
    "def test_set_quantity_by_name():\n",
    "    product = Product(name=Name(\"product1\"), quantity=Quantity(100))\n",
    "    cart: Cart = {product[\"name\"]: product}\n",
    "    new_quantity = Quantity(200)\n",
    "    product_excepted = Product(name=product[\"name\"], quantity=new_quantity)\n",
    "    excepted_cart = {product_excepted[\"name\"]: product_excepted}\n",
    "    assert set_quantity_by_name(cart, product[\"name\"], new_quantity) == excepted_cart"
   ]
  },
  {
   "cell_type": "code",
   "execution_count": 34,
   "metadata": {},
   "outputs": [],
   "source": [
    "test_set_quantity_by_name()"
   ]
  },
  {
   "cell_type": "code",
   "execution_count": 35,
   "metadata": {},
   "outputs": [],
   "source": [
    "def set_quantity_by_name(cart: Cart, name: Name, quantity: Quantity) -> Cart:\n",
    "    product = cart[name]\n",
    "    new_product = object_set(product, \"quantity\", quantity)\n",
    "    new_cart = object_set(cart, name, new_product)\n",
    "    return new_cart\n"
   ]
  },
  {
   "cell_type": "code",
   "execution_count": 36,
   "metadata": {},
   "outputs": [],
   "source": [
    "test_set_quantity_by_name()"
   ]
  },
  {
   "cell_type": "code",
   "execution_count": 37,
   "metadata": {},
   "outputs": [],
   "source": [
    "def tests():\n",
    "    test_set_quantity_by_name()\n",
    "    test_set_price_by_name()\n",
    "\n",
    "def set_quantity_by_name(cart: Cart, name: Name, quantity: Quantity) -> Cart:\n",
    "    product = cart[name]\n",
    "    new_product = object_set(product, \"quantity\", quantity)\n",
    "    new_cart = object_set(cart, name, new_product)\n",
    "    return new_cart\n",
    "\n",
    "def set_price_by_name(cart: Cart, name: Name, price: Price) -> Cart:\n",
    "    product = cart[name]\n",
    "    new_product = object_set(product, \"price\", price)\n",
    "    new_cart = object_set(cart, name, new_product)\n",
    "    return new_cart"
   ]
  },
  {
   "cell_type": "code",
   "execution_count": 38,
   "metadata": {},
   "outputs": [],
   "source": [
    "tests()"
   ]
  },
  {
   "cell_type": "markdown",
   "metadata": {},
   "source": [
    "В двух функциях неявный аргумент в наименовании функции. Константа в функции передана неявно.\n",
    "Сделать явным аргументом."
   ]
  },
  {
   "cell_type": "code",
   "execution_count": 44,
   "metadata": {},
   "outputs": [],
   "source": [
    "def test_set_price_by_name():\n",
    "    product = Product(name=\"product1\", price=100)\n",
    "    cart: Cart = {product[\"name\"]: product}\n",
    "    new_price = Price(200)\n",
    "    product_excepted = Product(name=product[\"name\"], price=new_price)\n",
    "    excepted_cart = {product_excepted[\"name\"]: product_excepted}\n",
    "    assert set_price_by_name(cart=cart, name=product[\"name\"], field=\"price\", price=new_price) == excepted_cart\n",
    "\n",
    "\n",
    "def test_set_quantity_by_name():\n",
    "    product = Product(name=Name(\"product1\"), quantity=Quantity(100))\n",
    "    cart: Cart = {product[\"name\"]: product}\n",
    "    new_quantity = Quantity(200)\n",
    "    product_excepted = Product(name=product[\"name\"], quantity=new_quantity)\n",
    "    excepted_cart = {product_excepted[\"name\"]: product_excepted}\n",
    "    assert set_quantity_by_name(cart=cart, name=product[\"name\"], field=\"quantity\", quantity=new_quantity) == excepted_cart\n",
    "\n",
    "\n",
    "def set_quantity_by_name(cart: Cart, name: Name, field: FieldName, quantity: Quantity) -> Cart:\n",
    "    product = cart[name]\n",
    "    new_product = object_set(product, field, quantity)\n",
    "    new_cart = object_set(cart, name, new_product)\n",
    "    return new_cart\n",
    "\n",
    "\n",
    "\n",
    "def set_price_by_name(cart: Cart, name: Name, field: FieldName,  price: Price) -> Cart:\n",
    "    product = cart[name]\n",
    "    new_product = object_set(product, field, price)\n",
    "    new_cart = object_set(cart, name, new_product)\n",
    "    return new_cart"
   ]
  },
  {
   "cell_type": "code",
   "execution_count": 45,
   "metadata": {},
   "outputs": [],
   "source": [
    "tests()"
   ]
  },
  {
   "cell_type": "code",
   "execution_count": 51,
   "metadata": {},
   "outputs": [],
   "source": [
    "def test_set_field_by_name():\n",
    "    name_product = Name(\"product1\")\n",
    "    old_data = {\n",
    "        \"price\": Price(20),\n",
    "        \"quantity\": Quantity(10)\n",
    "    }\n",
    "    new_data={\n",
    "        \"price\": Price(200),\n",
    "        \"quantity\": Quantity(100)\n",
    "    }\n",
    "    product = Product(name=name_product, price=old_data[\"price\"], quantity=old_data[\"quantity\"])\n",
    "    cart: Cart = {name_product: product}\n",
    "    product_excepted_new_price = Product(name=product[\"name\"], price=new_data[\"price\"], quantity=old_data[\"quantity\"])\n",
    "    product_excepted_new_quantity = Product(name=product[\"name\"], price=old_data[\"price\"], quantity=new_data[\"quantity\"])\n",
    "\n",
    "    assert set_field_by_name(cart=cart, name=product[\"name\"], field=\"price\", value=new_data[\"price\"]) == {name_product: product_excepted_new_price}\n",
    "    assert set_field_by_name(cart=cart, name=product[\"name\"], field=\"quantity\", value=new_data[\"quantity\"]) == {name_product: product_excepted_new_quantity}"
   ]
  },
  {
   "cell_type": "code",
   "execution_count": 52,
   "metadata": {},
   "outputs": [],
   "source": [
    "test_set_field_by_name()"
   ]
  },
  {
   "cell_type": "code",
   "execution_count": 53,
   "metadata": {},
   "outputs": [],
   "source": [
    "def set_field_by_name(cart: Cart, name: Name, field: FieldName, value: FieldValue) -> Cart:\n",
    "    product = cart[name]\n",
    "    new_product = object_set(product, field, value)\n",
    "    new_cart = object_set(cart, name, new_product)\n",
    "    return new_cart"
   ]
  },
  {
   "cell_type": "code",
   "execution_count": 54,
   "metadata": {},
   "outputs": [],
   "source": [
    "test_set_field_by_name()"
   ]
  },
  {
   "cell_type": "markdown",
   "metadata": {},
   "source": [
    "Вариант защиты от неправильного ввода наименования поля"
   ]
  },
  {
   "cell_type": "code",
   "execution_count": 60,
   "metadata": {},
   "outputs": [],
   "source": [
    "VALID_PRODUCT_NAME_FIELDS = set(get_type_hints(Product).keys())\n",
    "Error = str\n",
    "def set_field_by_name(cart: Cart, name: Name, field: FieldName, value: FieldValue) -> Cart | Error:\n",
    "    if field not in VALID_PRODUCT_NAME_FIELDS:\n",
    "        return Error(f\"Not a valid field name \\\"{field}\\\"\")\n",
    "    product = cart[name]\n",
    "    new_product = object_set(product, field, value)\n",
    "    new_cart = object_set(cart, name, new_product)\n",
    "    return new_cart"
   ]
  },
  {
   "cell_type": "code",
   "execution_count": 63,
   "metadata": {},
   "outputs": [],
   "source": [
    "def test_set_field_by_name__when_field_name_not_exists():\n",
    "    name_product = Name(\"product1\")\n",
    "    old_data = {\n",
    "        \"price\": Price(20),\n",
    "    }\n",
    "    new_data={\n",
    "        \"field_not_exists\": Price(200),\n",
    "        \"price\": Price(2000),\n",
    "    }\n",
    "    product = Product(name=name_product, price=old_data[\"price\"])\n",
    "    product_excepted_new_price = Product(name=product[\"name\"], price=new_data[\"price\"])\n",
    "    cart: Cart = {name_product: product}\n",
    "\n",
    "    assert set_field_by_name(cart=cart, name=product[\"name\"], field=\"field_not_exists\", value=new_data[\"field_not_exists\"]) == Error(f\"Not a valid field name \\\"field_not_exists\\\"\")\n",
    "    assert set_field_by_name(cart=cart, name=product[\"name\"], field=\"price\", value=new_data[\"price\"]) == {name_product: product_excepted_new_price}"
   ]
  },
  {
   "cell_type": "code",
   "execution_count": 64,
   "metadata": {},
   "outputs": [],
   "source": [
    "test_set_field_by_name__when_field_name_not_exists()"
   ]
  },
  {
   "cell_type": "code",
   "execution_count": null,
   "metadata": {},
   "outputs": [],
   "source": []
  }
 ],
 "metadata": {
  "kernelspec": {
   "display_name": "Python 3",
   "language": "python",
   "name": "python3"
  },
  "language_info": {
   "codemirror_mode": {
    "name": "ipython",
    "version": 3
   },
   "file_extension": ".py",
   "mimetype": "text/x-python",
   "name": "python",
   "nbconvert_exporter": "python",
   "pygments_lexer": "ipython3",
   "version": "3.12.4"
  }
 },
 "nbformat": 4,
 "nbformat_minor": 2
}
