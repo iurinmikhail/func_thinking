{
 "cells": [
  {
   "cell_type": "markdown",
   "metadata": {},
   "source": [
    "Тактика работы с операциями чтения и записи. Или стратегия"
   ]
  },
  {
   "cell_type": "markdown",
   "metadata": {},
   "source": [
    "1. Разделениие чтения и записи (Предпочтительно)\n",
    "2. Вернуть два значения"
   ]
  },
  {
   "cell_type": "markdown",
   "metadata": {},
   "source": [
    "1. Подход с разделением чтения и записи.\n",
    "При удалении используем подход копирование при записи."
   ]
  },
  {
   "cell_type": "code",
   "execution_count": 5,
   "metadata": {},
   "outputs": [],
   "source": [
    "def last_element(array):\n",
    "    return array[-1]"
   ]
  },
  {
   "cell_type": "code",
   "execution_count": 6,
   "metadata": {},
   "outputs": [],
   "source": [
    "def drop_last(array):\n",
    "    array_copy = array[:]\n",
    "    array.pop()\n",
    "    return array\n"
   ]
  },
  {
   "cell_type": "code",
   "execution_count": 7,
   "metadata": {},
   "outputs": [],
   "source": [
    "assert drop_last([1,2 ,3]) == [1, 2]"
   ]
  },
  {
   "cell_type": "markdown",
   "metadata": {},
   "source": [
    "2. Возврат двух значений"
   ]
  },
  {
   "cell_type": "markdown",
   "metadata": {},
   "source": [
    "Взять изменени под контроль. Отделить вычисление от действия. Чтение это вычисление"
   ]
  },
  {
   "cell_type": "code",
   "execution_count": 8,
   "metadata": {},
   "outputs": [],
   "source": [
    "def pop(array):\n",
    "    array.pop()\n",
    "    return array"
   ]
  },
  {
   "cell_type": "code",
   "execution_count": 9,
   "metadata": {},
   "outputs": [
    {
     "data": {
      "text/plain": [
       "[1, 2]"
      ]
     },
     "execution_count": 9,
     "metadata": {},
     "output_type": "execute_result"
    }
   ],
   "source": [
    "pop([1, 2, 3])"
   ]
  },
  {
   "cell_type": "code",
   "execution_count": 10,
   "metadata": {},
   "outputs": [],
   "source": [
    "def pop(array):\n",
    "    array_copy = array.copy()\n",
    "    array_copy.pop()\n",
    "    return array_copy"
   ]
  },
  {
   "cell_type": "code",
   "execution_count": 11,
   "metadata": {},
   "outputs": [
    {
     "data": {
      "text/plain": [
       "[1, 2]"
      ]
     },
     "execution_count": 11,
     "metadata": {},
     "output_type": "execute_result"
    }
   ],
   "source": [
    "pop([1,2,3])"
   ]
  },
  {
   "cell_type": "code",
   "execution_count": 12,
   "metadata": {},
   "outputs": [],
   "source": [
    "def pop(array):\n",
    "    return {\"last\": last_element(array),\n",
    "            \"array\": drop_last(array)}"
   ]
  },
  {
   "cell_type": "code",
   "execution_count": 13,
   "metadata": {},
   "outputs": [
    {
     "data": {
      "text/plain": [
       "{'last': 3, 'array': [1, 2]}"
      ]
     },
     "execution_count": 13,
     "metadata": {},
     "output_type": "execute_result"
    }
   ],
   "source": [
    "pop([1, 2, 3])"
   ]
  },
  {
   "cell_type": "code",
   "execution_count": null,
   "metadata": {},
   "outputs": [],
   "source": [
    "def array_sat(array, idx, value):\n",
    "    array_copy = array.copy()\n",
    "    array_copy[idx] = value\n",
    "    return array_copy"
   ]
  },
  {
   "cell_type": "code",
   "execution_count": 1,
   "metadata": {},
   "outputs": [],
   "source": [
    "def test_set_price():\n",
    "    old_item = {'price': 100}\n",
    "    new_price = 200\n",
    "    assert set_price(old_item, new_price) == {'price': 200}\n",
    "    assert old_item == {'price': 100}"
   ]
  },
  {
   "cell_type": "code",
   "execution_count": 2,
   "metadata": {},
   "outputs": [
    {
     "ename": "NameError",
     "evalue": "name 'set_price' is not defined",
     "output_type": "error",
     "traceback": [
      "\u001b[1;31m---------------------------------------------------------------------------\u001b[0m",
      "\u001b[1;31mNameError\u001b[0m                                 Traceback (most recent call last)",
      "Cell \u001b[1;32mIn[2], line 1\u001b[0m\n\u001b[1;32m----> 1\u001b[0m \u001b[43mtest_set_price\u001b[49m\u001b[43m(\u001b[49m\u001b[43m)\u001b[49m\n",
      "Cell \u001b[1;32mIn[1], line 4\u001b[0m, in \u001b[0;36mtest_set_price\u001b[1;34m()\u001b[0m\n\u001b[0;32m      2\u001b[0m old_item \u001b[38;5;241m=\u001b[39m {\u001b[38;5;124m'\u001b[39m\u001b[38;5;124mprice\u001b[39m\u001b[38;5;124m'\u001b[39m: \u001b[38;5;241m100\u001b[39m}\n\u001b[0;32m      3\u001b[0m new_price \u001b[38;5;241m=\u001b[39m \u001b[38;5;241m200\u001b[39m\n\u001b[1;32m----> 4\u001b[0m \u001b[38;5;28;01massert\u001b[39;00m \u001b[43mset_price\u001b[49m(old_item, new_price) \u001b[38;5;241m==\u001b[39m {\u001b[38;5;124m'\u001b[39m\u001b[38;5;124mprice\u001b[39m\u001b[38;5;124m'\u001b[39m: \u001b[38;5;241m200\u001b[39m}\n\u001b[0;32m      5\u001b[0m \u001b[38;5;28;01massert\u001b[39;00m old_item \u001b[38;5;241m==\u001b[39m {\u001b[38;5;124m'\u001b[39m\u001b[38;5;124mprice\u001b[39m\u001b[38;5;124m'\u001b[39m: \u001b[38;5;241m100\u001b[39m}\n",
      "\u001b[1;31mNameError\u001b[0m: name 'set_price' is not defined"
     ]
    }
   ],
   "source": [
    "test_set_price()"
   ]
  },
  {
   "cell_type": "code",
   "execution_count": 6,
   "metadata": {},
   "outputs": [],
   "source": [
    "from typing import Any\n",
    "\n",
    "\n",
    "def set_price(item: dict[str, Any], price: int) -> dict[str, Any]:\n",
    "    item_copy = item.copy()\n",
    "    item_copy[\"price\"] = price\n",
    "    return item_copy"
   ]
  },
  {
   "cell_type": "code",
   "execution_count": 7,
   "metadata": {},
   "outputs": [],
   "source": [
    "test_set_price()\n"
   ]
  },
  {
   "cell_type": "code",
   "execution_count": 9,
   "metadata": {},
   "outputs": [],
   "source": [
    "def test_object_set():\n",
    "    o = {\"price\": 200}\n",
    "    price = 37\n",
    "    assert object_set(o, 'price', price) == {\"price\": 37}\n",
    "    assert o == {\"price\": 200}"
   ]
  },
  {
   "cell_type": "code",
   "execution_count": 10,
   "metadata": {},
   "outputs": [],
   "source": [
    "def object_set(obj, key, value):\n",
    "    obj_copy = obj.copy()\n",
    "    obj_copy[key] = value\n",
    "    return obj_copy"
   ]
  },
  {
   "cell_type": "code",
   "execution_count": 11,
   "metadata": {},
   "outputs": [],
   "source": [
    "test_object_set()\n"
   ]
  },
  {
   "cell_type": "code",
   "execution_count": 12,
   "metadata": {},
   "outputs": [],
   "source": [
    "def test_obj_delete():\n",
    "    a = {\"x\": 1}\n",
    "    assert obj_delete(a, \"x\") == {}\n",
    "    assert a == {\"x\": 1}"
   ]
  },
  {
   "cell_type": "code",
   "execution_count": 13,
   "metadata": {},
   "outputs": [
    {
     "ename": "NameError",
     "evalue": "name 'obj_delete' is not defined",
     "output_type": "error",
     "traceback": [
      "\u001b[1;31m---------------------------------------------------------------------------\u001b[0m",
      "\u001b[1;31mNameError\u001b[0m                                 Traceback (most recent call last)",
      "Cell \u001b[1;32mIn[13], line 1\u001b[0m\n\u001b[1;32m----> 1\u001b[0m \u001b[43mtest_obj_delete\u001b[49m\u001b[43m(\u001b[49m\u001b[43m)\u001b[49m\n",
      "Cell \u001b[1;32mIn[12], line 3\u001b[0m, in \u001b[0;36mtest_obj_delete\u001b[1;34m()\u001b[0m\n\u001b[0;32m      1\u001b[0m \u001b[38;5;28;01mdef\u001b[39;00m \u001b[38;5;21mtest_obj_delete\u001b[39m():\n\u001b[0;32m      2\u001b[0m     a \u001b[38;5;241m=\u001b[39m {\u001b[38;5;124m\"\u001b[39m\u001b[38;5;124mx\u001b[39m\u001b[38;5;124m\"\u001b[39m: \u001b[38;5;241m1\u001b[39m}\n\u001b[1;32m----> 3\u001b[0m     \u001b[38;5;28;01massert\u001b[39;00m \u001b[43mobj_delete\u001b[49m(a, \u001b[38;5;124m\"\u001b[39m\u001b[38;5;124mx\u001b[39m\u001b[38;5;124m\"\u001b[39m) \u001b[38;5;241m==\u001b[39m {}\n\u001b[0;32m      4\u001b[0m     \u001b[38;5;28;01massert\u001b[39;00m a \u001b[38;5;241m==\u001b[39m {\u001b[38;5;124m\"\u001b[39m\u001b[38;5;124mx\u001b[39m\u001b[38;5;124m\"\u001b[39m: \u001b[38;5;241m1\u001b[39m}\n",
      "\u001b[1;31mNameError\u001b[0m: name 'obj_delete' is not defined"
     ]
    }
   ],
   "source": [
    "test_obj_delete()\n"
   ]
  },
  {
   "cell_type": "code",
   "execution_count": 14,
   "metadata": {},
   "outputs": [],
   "source": [
    "def obj_delete(obj: dict, key: str) -> dict:\n",
    "    obj_copy = obj.copy()\n",
    "    del obj_copy[key]\n",
    "    return obj_copy"
   ]
  },
  {
   "cell_type": "code",
   "execution_count": 15,
   "metadata": {},
   "outputs": [],
   "source": [
    "test_obj_delete()\n"
   ]
  },
  {
   "cell_type": "code",
   "execution_count": 23,
   "metadata": {},
   "outputs": [],
   "source": [
    "def test_set_price_by_name():\n",
    "    name = \"x\"\n",
    "    cart = [{\"name\": name, \"price\": 100}]\n",
    "    new_price = 400\n",
    "    assert set_price_by_name(cart, name, new_price) == [{\"name\": name, \"price\": new_price}]\n",
    "    assert cart == [{\"name\": name, \"price\": 100}]"
   ]
  },
  {
   "cell_type": "code",
   "execution_count": 24,
   "metadata": {},
   "outputs": [
    {
     "ename": "AssertionError",
     "evalue": "",
     "output_type": "error",
     "traceback": [
      "\u001b[1;31m---------------------------------------------------------------------------\u001b[0m",
      "\u001b[1;31mAssertionError\u001b[0m                            Traceback (most recent call last)",
      "Cell \u001b[1;32mIn[24], line 1\u001b[0m\n\u001b[1;32m----> 1\u001b[0m \u001b[43mtest_set_price_by_name\u001b[49m\u001b[43m(\u001b[49m\u001b[43m)\u001b[49m\n",
      "Cell \u001b[1;32mIn[23], line 5\u001b[0m, in \u001b[0;36mtest_set_price_by_name\u001b[1;34m()\u001b[0m\n\u001b[0;32m      3\u001b[0m cart \u001b[38;5;241m=\u001b[39m [{\u001b[38;5;124m\"\u001b[39m\u001b[38;5;124mname\u001b[39m\u001b[38;5;124m\"\u001b[39m: name, \u001b[38;5;124m\"\u001b[39m\u001b[38;5;124mprice\u001b[39m\u001b[38;5;124m\"\u001b[39m: \u001b[38;5;241m100\u001b[39m}]\n\u001b[0;32m      4\u001b[0m new_price \u001b[38;5;241m=\u001b[39m \u001b[38;5;241m400\u001b[39m\n\u001b[1;32m----> 5\u001b[0m \u001b[38;5;28;01massert\u001b[39;00m set_price_by_name(cart, name, new_price) \u001b[38;5;241m==\u001b[39m [{\u001b[38;5;124m\"\u001b[39m\u001b[38;5;124mname\u001b[39m\u001b[38;5;124m\"\u001b[39m: name, \u001b[38;5;124m\"\u001b[39m\u001b[38;5;124mprice\u001b[39m\u001b[38;5;124m\"\u001b[39m: new_price}]\n\u001b[0;32m      6\u001b[0m \u001b[38;5;28;01massert\u001b[39;00m cart \u001b[38;5;241m==\u001b[39m [{\u001b[38;5;124m\"\u001b[39m\u001b[38;5;124mname\u001b[39m\u001b[38;5;124m\"\u001b[39m: name, \u001b[38;5;124m\"\u001b[39m\u001b[38;5;124mprice\u001b[39m\u001b[38;5;124m\"\u001b[39m: \u001b[38;5;241m100\u001b[39m}]\n",
      "\u001b[1;31mAssertionError\u001b[0m: "
     ]
    }
   ],
   "source": [
    "test_set_price_by_name()"
   ]
  },
  {
   "cell_type": "code",
   "execution_count": 27,
   "metadata": {},
   "outputs": [],
   "source": [
    "def set_price_by_name(cart: list[dict], name: str, price: float) -> dict:\n",
    "    cart_copy = cart.copy()\n",
    "    for idx, pr in enumerate(cart_copy):\n",
    "        if pr[\"name\"] == name:\n",
    "            cart_copy[idx] = set_price(item=pr, price=price)\n",
    "    return cart_copy"
   ]
  },
  {
   "cell_type": "code",
   "execution_count": 28,
   "metadata": {},
   "outputs": [],
   "source": [
    "test_set_price_by_name()"
   ]
  },
  {
   "cell_type": "markdown",
   "metadata": {},
   "source": [
    "Защитное копирование"
   ]
  },
  {
   "cell_type": "code",
   "execution_count": 70,
   "metadata": {},
   "outputs": [],
   "source": [
    "from threading import Timer\n",
    "\n",
    "def bad_func(product):\n",
    "    def modify():\n",
    "        product['price'] = 15000\n",
    "    Timer(5, modify).start()\n",
    "\n",
    "\n",
    "def black_friday_promotion(product: dict[str, Any]) -> None:\n",
    "    \"\"\"Небезопасная функция, которая изменяет данные во время своей\n",
    "    работы и передает данные в плохую функцию, которая изменяет\n",
    "    данные даже после завершения этой функции\"\"\"\n",
    "    product[\"price\"] = 100\n",
    "    bad_func(product)\n",
    "\n",
    "def good_func_without_safe(product: dict) -> dict:\n",
    "    black_friday_promotion(product)\n",
    "    return product"
   ]
  },
  {
   "cell_type": "code",
   "execution_count": 83,
   "metadata": {},
   "outputs": [],
   "source": [
    "def test_good_func_without_safe():\n",
    "    \"\"\"Тест показывающий, что хорошая функция не защищена от плохой.\n",
    "    Данные изменились в функции. И данные изменились второй раз через 6 секунд.\n",
    "    \"\"\"\n",
    "    from time import sleep\n",
    "    old_price = 1000\n",
    "    new_price = 100\n",
    "    product = {\"name\": \"good_product\", \"price\": old_price}\n",
    "\n",
    "    new_product = good_func_without_safe(product=product)\n",
    "\n",
    "    assert product[\"price\"] != old_price\n",
    "    assert new_product[\"price\"] == new_price\n",
    "    sleep(6)\n",
    "    assert not new_product[\"price\"] == new_price\n",
    "    assert product[\"price\"] == 15000\n"
   ]
  },
  {
   "cell_type": "code",
   "execution_count": 84,
   "metadata": {},
   "outputs": [],
   "source": [
    "test_good_func_without_safe()"
   ]
  },
  {
   "cell_type": "code",
   "execution_count": 85,
   "metadata": {},
   "outputs": [],
   "source": [
    "from copy import deepcopy\n",
    "\n",
    "\n",
    "def good_func_with_safe(product: dict) -> dict:\n",
    "    product_copy_before = deepcopy(product)\n",
    "    black_friday_promotion(product_copy_before)\n",
    "    product_copy_after = deepcopy(product_copy_before)\n",
    "    return product_copy_after"
   ]
  },
  {
   "cell_type": "code",
   "execution_count": 86,
   "metadata": {},
   "outputs": [],
   "source": [
    "def test_good_func_with_safe():\n",
    "    \"\"\"Тест функции в которой выполнено защитное копирование.\"\"\"\n",
    "    from time import sleep\n",
    "    old_price = 1000\n",
    "    new_price = 100\n",
    "    product = {\"name\": \"good_product\", \"price\": old_price}\n",
    "\n",
    "    new_product = good_func_with_safe(product=product)\n",
    "    assert product[\"price\"] == old_price\n",
    "    assert new_product[\"price\"] == new_price\n",
    "    sleep(6)\n",
    "    assert new_product[\"price\"] == new_price\n"
   ]
  },
  {
   "cell_type": "code",
   "execution_count": 87,
   "metadata": {},
   "outputs": [
    {
     "name": "stdout",
     "output_type": "stream",
     "text": [
      "1000\n"
     ]
    }
   ],
   "source": [
    "test_good_func_with_safe()"
   ]
  },
  {
   "cell_type": "code",
   "execution_count": 88,
   "metadata": {},
   "outputs": [],
   "source": [
    "def black_friday_promotion_safe(product: dict) -> dict:\n",
    "    product_copy_before = deepcopy(product)\n",
    "    black_friday_promotion(product_copy_before)\n",
    "    product_copy_after = deepcopy(product_copy_before)\n",
    "    return product_copy_after\n",
    "\n",
    "def good_func_without_safe(product: dict) -> dict:\n",
    "    return black_friday_promotion_safe(product)"
   ]
  },
  {
   "cell_type": "code",
   "execution_count": 89,
   "metadata": {},
   "outputs": [
    {
     "name": "stdout",
     "output_type": "stream",
     "text": [
      "1000\n"
     ]
    }
   ],
   "source": [
    "test_good_func_with_safe()"
   ]
  },
  {
   "cell_type": "code",
   "execution_count": null,
   "metadata": {},
   "outputs": [],
   "source": []
  }
 ],
 "metadata": {
  "kernelspec": {
   "display_name": "Python 3",
   "language": "python",
   "name": "python3"
  },
  "language_info": {
   "codemirror_mode": {
    "name": "ipython",
    "version": 3
   },
   "file_extension": ".py",
   "mimetype": "text/x-python",
   "name": "python",
   "nbconvert_exporter": "python",
   "pygments_lexer": "ipython3",
   "version": "3.12.4"
  }
 },
 "nbformat": 4,
 "nbformat_minor": 2
}
