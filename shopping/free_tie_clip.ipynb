{
 "cells": [
  {
   "cell_type": "code",
   "execution_count": null,
   "metadata": {},
   "outputs": [],
   "source": [
    "from shipping_cart import make_product, Cart\n",
    "\n",
    "\n",
    "def free_tie_clip(cart: Cart) -> Cart:\n",
    "    has_tie = False\n",
    "    has_tie_clip = False\n",
    "    for item in cart:\n",
    "        if item.name == \"tie\":\n",
    "            has_tie = True\n",
    "        if item.name == \"tie clip\":\n",
    "            has_tie_clip = True\n",
    "    if has_tie and not has_tie_clip:\n",
    "        tie_clip = make_product(\"tie clip\", 0)\n",
    "        return make_product(cart, tie_clip)\n",
    "    return cart\n"
   ]
  },
  {
   "cell_type": "code",
   "execution_count": null,
   "metadata": {},
   "outputs": [],
   "source": []
  }
 ],
 "metadata": {
  "kernelspec": {
   "display_name": "Python 3",
   "language": "python",
   "name": "python3"
  },
  "language_info": {
   "name": "python",
   "version": "3.12.4"
  }
 },
 "nbformat": 4,
 "nbformat_minor": 2
}
