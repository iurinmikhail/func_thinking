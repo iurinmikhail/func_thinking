{
 "cells": [
  {
   "cell_type": "code",
   "execution_count": 17,
   "metadata": {},
   "outputs": [],
   "source": [
    "from src.shipping_cart import Product, Cart, Price, Name\n",
    "\n",
    "def test_free_tie_clip():\n",
    "    \"\"\"Тест функции добавления бесплатного зажима к галстуку.\"\"\"\n",
    "    tie_clip = Product(\n",
    "        name=Name(\"tie clip\"),\n",
    "        price=Price(0),\n",
    "    )\n",
    "    tie = Product(\n",
    "        name=Name(\"tie\"),\n",
    "        price=Price(100),\n",
    "    )\n",
    "    cart: Cart = [tie]\n",
    "    assert free_tie_clip(cart) == [tie, tie_clip]"
   ]
  },
  {
   "cell_type": "code",
   "execution_count": 18,
   "metadata": {},
   "outputs": [],
   "source": [
    "from src.shipping_cart import make_product, Cart, add_item\n",
    "\n",
    "\n",
    "def free_tie_clip(cart: Cart) -> Cart:\n",
    "    \"\"\"Добавляет зажим для галстука,\n",
    "    если в корзине есть галстук и нет зажима.\"\"\"\n",
    "    has_tie = False\n",
    "    has_tie_clip = False\n",
    "    for item in cart:\n",
    "        if item.name == \"tie\":\n",
    "            has_tie = True\n",
    "        if item.name == \"tie clip\":\n",
    "            has_tie_clip = True\n",
    "    if has_tie and not has_tie_clip:\n",
    "        tie_clip = make_product(\"tie clip\", 0)\n",
    "        return add_item(cart, tie_clip)\n",
    "    return cart\n"
   ]
  },
  {
   "cell_type": "markdown",
   "metadata": {},
   "source": [
    "В функции просто решена задача (добавление зажима в корзину). Это ситуативный код. Присутствуют разные уровни абстракции. Цикл `for` перебирающий список- это низкий уровень, а `make_product` и `add_item` находятся уровнем выше "
   ]
  },
  {
   "cell_type": "code",
   "execution_count": 26,
   "metadata": {},
   "outputs": [],
   "source": [
    "test_free_tie_clip()"
   ]
  },
  {
   "cell_type": "code",
   "execution_count": 27,
   "metadata": {},
   "outputs": [],
   "source": [
    "def test_is_in_cart():\n",
    "    name = Name(\"tia\")\n",
    "    cart1 = [Product(\n",
    "        name=name,\n",
    "        price=Price(100),\n",
    "    )]\n",
    "    cart2 = [Product(\n",
    "        name=Name(\"test\"),\n",
    "        price=Price(100),\n",
    "    )]\n",
    "    assert is_in_cart(cart1, name)\n",
    "    assert not is_in_cart(cart2, name)\n"
   ]
  },
  {
   "cell_type": "code",
   "execution_count": 28,
   "metadata": {},
   "outputs": [],
   "source": [
    "from src.shipping_cart import Cart\n",
    "\n",
    "\n",
    "def is_in_cart(cart: Cart, name: Name) -> bool:\n",
    "    \"\"\"Проверяет наличие товара в корзине.\"\"\"\n",
    "    filter_name = lambda item: item.name == name\n",
    "    return any(filter(filter_name, cart))\n"
   ]
  },
  {
   "cell_type": "code",
   "execution_count": 29,
   "metadata": {},
   "outputs": [],
   "source": [
    "test_is_in_cart()"
   ]
  },
  {
   "cell_type": "code",
   "execution_count": 30,
   "metadata": {},
   "outputs": [],
   "source": [
    "from src.shipping_cart import make_product, Cart, add_item\n",
    "\n",
    "\n",
    "def free_tie_clip(cart: Cart) -> Cart:\n",
    "    \"\"\"Добавляет зажим для галстука,\n",
    "    если в корзине есть галстук и нет зажима.\"\"\"\n",
    "    has_tie = is_in_cart(cart, \"tie\")\n",
    "    has_tie_clip = is_in_cart(cart, \"tie clip\")\n",
    "    if has_tie and not has_tie_clip:\n",
    "        tie_clip = make_product(\"tie clip\", 0)\n",
    "        return add_item(cart, tie_clip)\n",
    "    return cart"
   ]
  },
  {
   "cell_type": "markdown",
   "metadata": {},
   "source": [
    "В функции один уровень. is_in_cart, make_product, add_item это функции одного уровня. Не нужно знать, что корзина реализована в виде списка. В таком случае можно просто использовать функцию, не в даваясь в детали реализации. "
   ]
  },
  {
   "cell_type": "code",
   "execution_count": 33,
   "metadata": {},
   "outputs": [],
   "source": [
    "def test_get_idx_by_name():\n",
    "    \"\"\"Тест функции поиска индекса товара в корзине.\"\"\"\n",
    "    name1 = Name(\"product1\")\n",
    "    product1 = Product(\n",
    "        name=name1,\n",
    "        price=Price(200),\n",
    "    )\n",
    "    name2 = Name(\"product2\")\n",
    "    product2 = Product(\n",
    "        name=name2,\n",
    "        price=Price(100),\n",
    "    )\n",
    "    cart: Cart = [product1, product2]\n",
    "    assert get_idx_by_name(cart, name1) == 0"
   ]
  },
  {
   "cell_type": "code",
   "execution_count": 34,
   "metadata": {},
   "outputs": [
    {
     "ename": "NameError",
     "evalue": "name 'get_idx_by_name' is not defined",
     "output_type": "error",
     "traceback": [
      "\u001b[1;31m---------------------------------------------------------------------------\u001b[0m",
      "\u001b[1;31mNameError\u001b[0m                                 Traceback (most recent call last)",
      "Cell \u001b[1;32mIn[34], line 1\u001b[0m\n\u001b[1;32m----> 1\u001b[0m \u001b[43mtest_get_idx_by_name\u001b[49m\u001b[43m(\u001b[49m\u001b[43m)\u001b[49m\n",
      "Cell \u001b[1;32mIn[33], line 14\u001b[0m, in \u001b[0;36mtest_get_idx_by_name\u001b[1;34m()\u001b[0m\n\u001b[0;32m      9\u001b[0m product2 \u001b[38;5;241m=\u001b[39m Product(\n\u001b[0;32m     10\u001b[0m     name\u001b[38;5;241m=\u001b[39mname2,\n\u001b[0;32m     11\u001b[0m     price\u001b[38;5;241m=\u001b[39mPrice(\u001b[38;5;241m100\u001b[39m),\n\u001b[0;32m     12\u001b[0m )\n\u001b[0;32m     13\u001b[0m cart: Cart \u001b[38;5;241m=\u001b[39m [product1, product2]\n\u001b[1;32m---> 14\u001b[0m \u001b[38;5;28;01massert\u001b[39;00m \u001b[43mget_idx_by_name\u001b[49m(cart, name1) \u001b[38;5;241m==\u001b[39m \u001b[38;5;241m0\u001b[39m\n",
      "\u001b[1;31mNameError\u001b[0m: name 'get_idx_by_name' is not defined"
     ]
    }
   ],
   "source": [
    "test_get_idx_by_name()"
   ]
  },
  {
   "cell_type": "code",
   "execution_count": 41,
   "metadata": {},
   "outputs": [],
   "source": [
    "def get_idx_by_name(cart: Cart, name: Name) -> int | None:\n",
    "    \"\"\"Получает по наименования индекс в корзине.\"\"\"\n",
    "    for idx, product in enumerate(cart):\n",
    "        if product.name == name:\n",
    "            return idx\n",
    "    return None\n"
   ]
  },
  {
   "cell_type": "code",
   "execution_count": 42,
   "metadata": {},
   "outputs": [],
   "source": [
    "test_get_idx_by_name()"
   ]
  },
  {
   "cell_type": "code",
   "execution_count": null,
   "metadata": {},
   "outputs": [],
   "source": []
  }
 ],
 "metadata": {
  "kernelspec": {
   "display_name": "Python 3",
   "language": "python",
   "name": "python3"
  },
  "language_info": {
   "codemirror_mode": {
    "name": "ipython",
    "version": 3
   },
   "file_extension": ".py",
   "mimetype": "text/x-python",
   "name": "python",
   "nbconvert_exporter": "python",
   "pygments_lexer": "ipython3",
   "version": "3.12.4"
  }
 },
 "nbformat": 4,
 "nbformat_minor": 2
}
